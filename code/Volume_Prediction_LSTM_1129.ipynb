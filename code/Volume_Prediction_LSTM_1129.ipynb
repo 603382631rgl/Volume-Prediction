{
 "cells": [
  {
   "cell_type": "code",
   "execution_count": 1,
   "metadata": {},
   "outputs": [],
   "source": [
    "# #Import all necessary packages\n",
    "import os\n",
    "\n",
    "import functions\n",
    "print("This is testing")",
    "from functions import *\n",
    "from functions import generateDataset\n",
    "from functions import getData\n",
    "from functions import getDates\n",
    "from functions import predictionReport\n",
    "from functions import getRecords\n",
    "from functions import kpss_test"
   ]
  },
  {
   "cell_type": "markdown",
   "metadata": {},
   "source": [
    "## 1. Reading Data"
   ]
  },
  {
   "cell_type": "code",
   "execution_count": 2,
   "metadata": {},
   "outputs": [
    {
     "data": {
      "text/html": [
       "<div>\n",
       "<style scoped>\n",
       "    .dataframe tbody tr th:only-of-type {\n",
       "        vertical-align: middle;\n",
       "    }\n",
       "\n",
       "    .dataframe tbody tr th {\n",
       "        vertical-align: top;\n",
       "    }\n",
       "\n",
       "    .dataframe thead th {\n",
       "        text-align: right;\n",
       "    }\n",
       "</style>\n",
       "<table border=\"1\" class=\"dataframe\">\n",
       "  <thead>\n",
       "    <tr style=\"text-align: right;\">\n",
       "      <th></th>\n",
       "      <th></th>\n",
       "      <th>count</th>\n",
       "      <th>volume</th>\n",
       "      <th>open</th>\n",
       "      <th>high</th>\n",
       "      <th>low</th>\n",
       "      <th>close</th>\n",
       "      <th>vwap</th>\n",
       "      <th>logVolume</th>\n",
       "      <th>hlDiff</th>\n",
       "    </tr>\n",
       "    <tr>\n",
       "      <th>date</th>\n",
       "      <th>time</th>\n",
       "      <th></th>\n",
       "      <th></th>\n",
       "      <th></th>\n",
       "      <th></th>\n",
       "      <th></th>\n",
       "      <th></th>\n",
       "      <th></th>\n",
       "      <th></th>\n",
       "      <th></th>\n",
       "    </tr>\n",
       "  </thead>\n",
       "  <tbody>\n",
       "    <tr>\n",
       "      <th rowspan=\"5\" valign=\"top\">20220103</th>\n",
       "      <th>09:31:00</th>\n",
       "      <td>3379.0</td>\n",
       "      <td>398188.0</td>\n",
       "      <td>476.75</td>\n",
       "      <td>476.585</td>\n",
       "      <td>476.22</td>\n",
       "      <td>476.47</td>\n",
       "      <td>476.4477</td>\n",
       "      <td>12.894680</td>\n",
       "      <td>0.365</td>\n",
       "    </tr>\n",
       "    <tr>\n",
       "      <th>09:32:00</th>\n",
       "      <td>2757.0</td>\n",
       "      <td>202306.0</td>\n",
       "      <td>476.75</td>\n",
       "      <td>476.820</td>\n",
       "      <td>476.31</td>\n",
       "      <td>476.70</td>\n",
       "      <td>476.6033</td>\n",
       "      <td>12.217537</td>\n",
       "      <td>0.510</td>\n",
       "    </tr>\n",
       "    <tr>\n",
       "      <th>09:33:00</th>\n",
       "      <td>2519.0</td>\n",
       "      <td>236129.0</td>\n",
       "      <td>476.75</td>\n",
       "      <td>476.780</td>\n",
       "      <td>476.45</td>\n",
       "      <td>476.54</td>\n",
       "      <td>476.5848</td>\n",
       "      <td>12.372134</td>\n",
       "      <td>0.330</td>\n",
       "    </tr>\n",
       "    <tr>\n",
       "      <th>09:34:00</th>\n",
       "      <td>1617.0</td>\n",
       "      <td>142559.0</td>\n",
       "      <td>476.75</td>\n",
       "      <td>477.000</td>\n",
       "      <td>476.55</td>\n",
       "      <td>476.99</td>\n",
       "      <td>476.7846</td>\n",
       "      <td>11.867511</td>\n",
       "      <td>0.450</td>\n",
       "    </tr>\n",
       "    <tr>\n",
       "      <th>09:35:00</th>\n",
       "      <td>2314.0</td>\n",
       "      <td>204234.0</td>\n",
       "      <td>476.75</td>\n",
       "      <td>477.160</td>\n",
       "      <td>476.93</td>\n",
       "      <td>477.07</td>\n",
       "      <td>477.0469</td>\n",
       "      <td>12.227022</td>\n",
       "      <td>0.230</td>\n",
       "    </tr>\n",
       "  </tbody>\n",
       "</table>\n",
       "</div>"
      ],
      "text/plain": [
       "                    count    volume    open     high     low   close  \\\n",
       "date     time                                                          \n",
       "20220103 09:31:00  3379.0  398188.0  476.75  476.585  476.22  476.47   \n",
       "         09:32:00  2757.0  202306.0  476.75  476.820  476.31  476.70   \n",
       "         09:33:00  2519.0  236129.0  476.75  476.780  476.45  476.54   \n",
       "         09:34:00  1617.0  142559.0  476.75  477.000  476.55  476.99   \n",
       "         09:35:00  2314.0  204234.0  476.75  477.160  476.93  477.07   \n",
       "\n",
       "                       vwap  logVolume  hlDiff  \n",
       "date     time                                   \n",
       "20220103 09:31:00  476.4477  12.894680   0.365  \n",
       "         09:32:00  476.6033  12.217537   0.510  \n",
       "         09:33:00  476.5848  12.372134   0.330  \n",
       "         09:34:00  476.7846  11.867511   0.450  \n",
       "         09:35:00  477.0469  12.227022   0.230  "
      ]
     },
     "execution_count": 2,
     "metadata": {},
     "output_type": "execute_result"
    }
   ],
   "source": [
    "path = '/Users/guolir/Desktop/Volumn Project/data/SPY_Data_Decompressed/SPY'\n",
    "dates = getDates(path)\n",
    "data = getData(dates, path)\n",
    "data.head()"
   ]
  },
  {
   "cell_type": "code",
   "execution_count": 7,
   "metadata": {},
   "outputs": [
    {
     "data": {
      "text/html": [
       "<div>\n",
       "<style scoped>\n",
       "    .dataframe tbody tr th:only-of-type {\n",
       "        vertical-align: middle;\n",
       "    }\n",
       "\n",
       "    .dataframe tbody tr th {\n",
       "        vertical-align: top;\n",
       "    }\n",
       "\n",
       "    .dataframe thead th {\n",
       "        text-align: right;\n",
       "    }\n",
       "</style>\n",
       "<table border=\"1\" class=\"dataframe\">\n",
       "  <thead>\n",
       "    <tr style=\"text-align: right;\">\n",
       "      <th></th>\n",
       "      <th></th>\n",
       "      <th>count</th>\n",
       "      <th>volume</th>\n",
       "      <th>open</th>\n",
       "      <th>high</th>\n",
       "      <th>low</th>\n",
       "      <th>close</th>\n",
       "      <th>vwap</th>\n",
       "      <th>logVolume</th>\n",
       "      <th>hlDiff</th>\n",
       "      <th>logHlDiffSq</th>\n",
       "      <th>rangeVariance</th>\n",
       "    </tr>\n",
       "    <tr>\n",
       "      <th>date</th>\n",
       "      <th>time</th>\n",
       "      <th></th>\n",
       "      <th></th>\n",
       "      <th></th>\n",
       "      <th></th>\n",
       "      <th></th>\n",
       "      <th></th>\n",
       "      <th></th>\n",
       "      <th></th>\n",
       "      <th></th>\n",
       "      <th></th>\n",
       "      <th></th>\n",
       "    </tr>\n",
       "  </thead>\n",
       "  <tbody>\n",
       "    <tr>\n",
       "      <th rowspan=\"10\" valign=\"top\">20220103</th>\n",
       "      <th>09:31:00</th>\n",
       "      <td>3379.0</td>\n",
       "      <td>398188.0</td>\n",
       "      <td>476.75</td>\n",
       "      <td>476.585</td>\n",
       "      <td>476.22</td>\n",
       "      <td>476.47</td>\n",
       "      <td>476.4477</td>\n",
       "      <td>12.894680</td>\n",
       "      <td>0.365</td>\n",
       "      <td>5.869995e-07</td>\n",
       "      <td>NaN</td>\n",
       "    </tr>\n",
       "    <tr>\n",
       "      <th>09:32:00</th>\n",
       "      <td>2757.0</td>\n",
       "      <td>202306.0</td>\n",
       "      <td>476.75</td>\n",
       "      <td>476.820</td>\n",
       "      <td>476.31</td>\n",
       "      <td>476.70</td>\n",
       "      <td>476.6033</td>\n",
       "      <td>12.217537</td>\n",
       "      <td>0.510</td>\n",
       "      <td>1.145239e-06</td>\n",
       "      <td>NaN</td>\n",
       "    </tr>\n",
       "    <tr>\n",
       "      <th>09:33:00</th>\n",
       "      <td>2519.0</td>\n",
       "      <td>236129.0</td>\n",
       "      <td>476.75</td>\n",
       "      <td>476.780</td>\n",
       "      <td>476.45</td>\n",
       "      <td>476.54</td>\n",
       "      <td>476.5848</td>\n",
       "      <td>12.372134</td>\n",
       "      <td>0.330</td>\n",
       "      <td>4.793939e-07</td>\n",
       "      <td>NaN</td>\n",
       "    </tr>\n",
       "    <tr>\n",
       "      <th>09:34:00</th>\n",
       "      <td>1617.0</td>\n",
       "      <td>142559.0</td>\n",
       "      <td>476.75</td>\n",
       "      <td>477.000</td>\n",
       "      <td>476.55</td>\n",
       "      <td>476.99</td>\n",
       "      <td>476.7846</td>\n",
       "      <td>11.867511</td>\n",
       "      <td>0.450</td>\n",
       "      <td>8.908368e-07</td>\n",
       "      <td>NaN</td>\n",
       "    </tr>\n",
       "    <tr>\n",
       "      <th>09:35:00</th>\n",
       "      <td>2314.0</td>\n",
       "      <td>204234.0</td>\n",
       "      <td>476.75</td>\n",
       "      <td>477.160</td>\n",
       "      <td>476.93</td>\n",
       "      <td>477.07</td>\n",
       "      <td>477.0469</td>\n",
       "      <td>12.227022</td>\n",
       "      <td>0.230</td>\n",
       "      <td>2.324540e-07</td>\n",
       "      <td>6.669846e-07</td>\n",
       "    </tr>\n",
       "    <tr>\n",
       "      <th>09:36:00</th>\n",
       "      <td>2244.0</td>\n",
       "      <td>226295.0</td>\n",
       "      <td>476.75</td>\n",
       "      <td>477.219</td>\n",
       "      <td>476.90</td>\n",
       "      <td>477.08</td>\n",
       "      <td>477.0720</td>\n",
       "      <td>12.329595</td>\n",
       "      <td>0.319</td>\n",
       "      <td>4.471326e-07</td>\n",
       "      <td>6.390113e-07</td>\n",
       "    </tr>\n",
       "    <tr>\n",
       "      <th>09:37:00</th>\n",
       "      <td>1879.0</td>\n",
       "      <td>141073.0</td>\n",
       "      <td>476.75</td>\n",
       "      <td>477.400</td>\n",
       "      <td>477.06</td>\n",
       "      <td>477.27</td>\n",
       "      <td>477.2503</td>\n",
       "      <td>11.857033</td>\n",
       "      <td>0.340</td>\n",
       "      <td>5.075775e-07</td>\n",
       "      <td>5.114790e-07</td>\n",
       "    </tr>\n",
       "    <tr>\n",
       "      <th>09:38:00</th>\n",
       "      <td>2274.0</td>\n",
       "      <td>228741.0</td>\n",
       "      <td>476.75</td>\n",
       "      <td>477.720</td>\n",
       "      <td>477.27</td>\n",
       "      <td>477.53</td>\n",
       "      <td>477.5383</td>\n",
       "      <td>12.340346</td>\n",
       "      <td>0.450</td>\n",
       "      <td>8.881523e-07</td>\n",
       "      <td>5.932306e-07</td>\n",
       "    </tr>\n",
       "    <tr>\n",
       "      <th>09:39:00</th>\n",
       "      <td>1519.0</td>\n",
       "      <td>119047.0</td>\n",
       "      <td>476.75</td>\n",
       "      <td>477.570</td>\n",
       "      <td>477.39</td>\n",
       "      <td>477.39</td>\n",
       "      <td>477.5148</td>\n",
       "      <td>11.687274</td>\n",
       "      <td>0.180</td>\n",
       "      <td>1.421133e-07</td>\n",
       "      <td>4.434859e-07</td>\n",
       "    </tr>\n",
       "    <tr>\n",
       "      <th>09:40:00</th>\n",
       "      <td>2020.0</td>\n",
       "      <td>186346.0</td>\n",
       "      <td>476.75</td>\n",
       "      <td>477.430</td>\n",
       "      <td>477.15</td>\n",
       "      <td>477.29</td>\n",
       "      <td>477.2697</td>\n",
       "      <td>12.135360</td>\n",
       "      <td>0.280</td>\n",
       "      <td>3.441529e-07</td>\n",
       "      <td>4.658257e-07</td>\n",
       "    </tr>\n",
       "  </tbody>\n",
       "</table>\n",
       "</div>"
      ],
      "text/plain": [
       "                    count    volume    open     high     low   close  \\\n",
       "date     time                                                          \n",
       "20220103 09:31:00  3379.0  398188.0  476.75  476.585  476.22  476.47   \n",
       "         09:32:00  2757.0  202306.0  476.75  476.820  476.31  476.70   \n",
       "         09:33:00  2519.0  236129.0  476.75  476.780  476.45  476.54   \n",
       "         09:34:00  1617.0  142559.0  476.75  477.000  476.55  476.99   \n",
       "         09:35:00  2314.0  204234.0  476.75  477.160  476.93  477.07   \n",
       "         09:36:00  2244.0  226295.0  476.75  477.219  476.90  477.08   \n",
       "         09:37:00  1879.0  141073.0  476.75  477.400  477.06  477.27   \n",
       "         09:38:00  2274.0  228741.0  476.75  477.720  477.27  477.53   \n",
       "         09:39:00  1519.0  119047.0  476.75  477.570  477.39  477.39   \n",
       "         09:40:00  2020.0  186346.0  476.75  477.430  477.15  477.29   \n",
       "\n",
       "                       vwap  logVolume  hlDiff   logHlDiffSq  rangeVariance  \n",
       "date     time                                                                \n",
       "20220103 09:31:00  476.4477  12.894680   0.365  5.869995e-07            NaN  \n",
       "         09:32:00  476.6033  12.217537   0.510  1.145239e-06            NaN  \n",
       "         09:33:00  476.5848  12.372134   0.330  4.793939e-07            NaN  \n",
       "         09:34:00  476.7846  11.867511   0.450  8.908368e-07            NaN  \n",
       "         09:35:00  477.0469  12.227022   0.230  2.324540e-07   6.669846e-07  \n",
       "         09:36:00  477.0720  12.329595   0.319  4.471326e-07   6.390113e-07  \n",
       "         09:37:00  477.2503  11.857033   0.340  5.075775e-07   5.114790e-07  \n",
       "         09:38:00  477.5383  12.340346   0.450  8.881523e-07   5.932306e-07  \n",
       "         09:39:00  477.5148  11.687274   0.180  1.421133e-07   4.434859e-07  \n",
       "         09:40:00  477.2697  12.135360   0.280  3.441529e-07   4.658257e-07  "
      ]
     },
     "execution_count": 7,
     "metadata": {},
     "output_type": "execute_result"
    }
   ],
   "source": [
    "data['logHlDiffSq'] = data[['high','low']].apply(lambda x : (np.log(x[0])-np.log(x[1]))**2, axis = 1)\n",
    "data['rangeVariance'] = data['logHlDiffSq'].rolling(5).mean()\n",
    "data.head(10)"
   ]
  },
  {
   "cell_type": "markdown",
   "metadata": {},
   "source": [
    "## 2. Data Preparation"
   ]
  },
  {
   "cell_type": "code",
   "execution_count": 10,
   "metadata": {},
   "outputs": [
    {
     "name": "stdout",
     "output_type": "stream",
     "text": [
      "The correlation between volumn and hl_diff is:\n",
      "                       logVolume    hlDiff  rangeVariance\n",
      "logVolume       1.000000  0.712054       0.617413\n",
      "hlDiff          0.712054  1.000000       0.757400\n",
      "rangeVariance   0.617413  0.757400       1.000000\n",
      "    \n"
     ]
    }
   ],
   "source": [
    "# Creating train, validation, and test set from dataset\n",
    "df1 = data.loc[:,['logVolume','hlDiff','rangeVariance']]\n",
    "df1.dropna(inplace=True)\n",
    "\n",
    "\n",
    "# Normalizing the rangeVariance feature\n",
    "scaler = MinMaxScaler(feature_range=(0, 1))\n",
    "df1['rangeVariance'] = scaler.fit_transform(df1['rangeVariance'].values.reshape(-1,1))\n",
    "\n",
    "print(f'''The correlation between volumn and hl_diff is:\n",
    "        {df1.corr()}\n",
    "    ''')\n",
    "\n",
    "Xtr1, Xvs1, Xts1, Ytr1, Yvs1, Yts1 = generateDataset(df1, timeStep=5, trainRatio=0.97)\n",
    "# Xtr1, Xts1, Ytr1, Yts1 = generateDataset(df1, timeStep=5, trainRatio=0.97, validation=False)"
   ]
  },
  {
   "cell_type": "code",
   "execution_count": 11,
   "metadata": {},
   "outputs": [
    {
     "name": "stdout",
     "output_type": "stream",
     "text": [
      "\n",
      "The corresponding shape for train, validationm and test sets are as follows:\n",
      "    Train: (20835, 5, 3)\n",
      "    Validation: (1097, 5, 3)\n",
      "    Test: (679, 5, 3)\n",
      "\n"
     ]
    }
   ],
   "source": [
    "print(f'''\n",
    "The corresponding shape for train, validationm and test sets are as follows:\n",
    "    Train: {Xtr1.shape}\n",
    "    Validation: {Xvs1.shape}\n",
    "    Test: {Xts1.shape}\n",
    "''')"
   ]
  },
  {
   "cell_type": "markdown",
   "metadata": {},
   "source": [
    "## 3. LSTM Modeling"
   ]
  },
  {
   "cell_type": "markdown",
   "metadata": {},
   "source": [
    "### <Center>--------Raw LSTM----------</Center>"
   ]
  },
  {
   "cell_type": "markdown",
   "metadata": {},
   "source": [
    "#### a. Defining model"
   ]
  },
  {
   "cell_type": "code",
   "execution_count": 12,
   "metadata": {},
   "outputs": [],
   "source": [
    "# Setting up the model which would then be directly callable\n",
    "def build_LSTM_model(params, input_shape):\n",
    "    model = Sequential()\n",
    "    input_shape = [input_shape[1], input_shape[2]]\n",
    "    model.add(LSTM(units=params[\"lstm_units\"], return_sequences=True, input_shape=input_shape))\n",
    "    model.add(Dropout(rate=params[\"dropout\"]))\n",
    "\n",
    "    model.add(LSTM(units=int(params[\"lstm_units\"]/2), input_shape=input_shape))\n",
    "    # model.add(Dropout(rate=params[\"dropout\"]))\n",
    "    \n",
    "    model.add(Dense(int(params[\"lstm_units\"]/2)))\n",
    "    # model.add(Activation('relu'))\n",
    "    \n",
    "    model.add(Dense(int(params[\"lstm_units\"]/4)))\n",
    "    \n",
    "    model.add(Dense(1))\n",
    "\n",
    "    model.compile(loss=params[\"loss\"],\n",
    "                  optimizer=params[\"optimizer\"],\n",
    "                  metrics=[RootMeanSquaredError(), MeanAbsoluteError()]\n",
    "                 )\n",
    "\n",
    "    model.summary()\n",
    "    \n",
    "    return model"
   ]
  },
  {
   "cell_type": "markdown",
   "metadata": {},
   "source": [
    "#### b. Initialize Parameters"
   ]
  },
  {
   "cell_type": "code",
   "execution_count": 13,
   "metadata": {},
   "outputs": [
    {
     "name": "stderr",
     "output_type": "stream",
     "text": [
      "2022-12-04 15:57:45.157867: I tensorflow/core/common_runtime/pluggable_device/pluggable_device_factory.cc:305] Could not identify NUMA node of platform GPU ID 0, defaulting to 0. Your kernel may not have been built with NUMA support.\n",
      "2022-12-04 15:57:45.158197: I tensorflow/core/common_runtime/pluggable_device/pluggable_device_factory.cc:271] Created TensorFlow device (/job:localhost/replica:0/task:0/device:GPU:0 with 0 MB memory) -> physical PluggableDevice (device: 0, name: METAL, pci bus id: <undefined>)\n"
     ]
    },
    {
     "name": "stdout",
     "output_type": "stream",
     "text": [
      "Metal device set to: Apple M1\n",
      "\n",
      "systemMemory: 8.00 GB\n",
      "maxCacheSize: 2.67 GB\n",
      "\n",
      "Model: \"sequential\"\n",
      "_________________________________________________________________\n",
      " Layer (type)                Output Shape              Param #   \n",
      "=================================================================\n",
      " lstm (LSTM)                 (None, 5, 64)             17408     \n",
      "                                                                 \n",
      " dropout (Dropout)           (None, 5, 64)             0         \n",
      "                                                                 \n",
      " lstm_1 (LSTM)               (None, 32)                12416     \n",
      "                                                                 \n",
      " dense (Dense)               (None, 32)                1056      \n",
      "                                                                 \n",
      " dense_1 (Dense)             (None, 16)                528       \n",
      "                                                                 \n",
      " dense_2 (Dense)             (None, 1)                 17        \n",
      "                                                                 \n",
      "=================================================================\n",
      "Total params: 31,425\n",
      "Trainable params: 31,425\n",
      "Non-trainable params: 0\n",
      "_________________________________________________________________\n"
     ]
    }
   ],
   "source": [
    "params_LSTM = {\n",
    "    \"loss\": \"mean_squared_error\",\n",
    "    # \"loss\": \"huber_loss\",\n",
    "    \"optimizer\": \"adam\",\n",
    "    \"dropout\": 0.05,\n",
    "    \"lstm_units\": 64,\n",
    "    \"epochs\": 10,\n",
    "    \"batch_size\": 64,\n",
    "#     \"es_patience\" : 5,\n",
    "    \"activation\" : 'relu'\n",
    "}\n",
    "\n",
    "LSTM_model = build_LSTM_model(params=params_LSTM, input_shape=Xtr1.shape)"
   ]
  },
  {
   "cell_type": "markdown",
   "metadata": {},
   "source": [
    "#### c. Fitting Model"
   ]
  },
  {
   "cell_type": "code",
   "execution_count": 14,
   "metadata": {},
   "outputs": [
    {
     "name": "stdout",
     "output_type": "stream",
     "text": [
      "Epoch 1/10\n"
     ]
    },
    {
     "name": "stderr",
     "output_type": "stream",
     "text": [
      "2022-12-04 15:57:49.011349: W tensorflow/core/platform/profile_utils/cpu_utils.cc:128] Failed to get CPU frequency: 0 Hz\n",
      "2022-12-04 15:57:50.421123: I tensorflow/core/grappler/optimizers/custom_graph_optimizer_registry.cc:113] Plugin optimizer for device_type GPU is enabled.\n",
      "2022-12-04 15:57:50.737160: I tensorflow/core/grappler/optimizers/custom_graph_optimizer_registry.cc:113] Plugin optimizer for device_type GPU is enabled.\n",
      "2022-12-04 15:57:50.818719: I tensorflow/core/grappler/optimizers/custom_graph_optimizer_registry.cc:113] Plugin optimizer for device_type GPU is enabled.\n"
     ]
    },
    {
     "name": "stdout",
     "output_type": "stream",
     "text": [
      "  1/326 [..............................] - ETA: 11:31 - loss: 131.8814 - root_mean_squared_error: 11.4840 - mean_absolute_error: 11.4514"
     ]
    },
    {
     "name": "stderr",
     "output_type": "stream",
     "text": [
      "2022-12-04 15:57:51.018606: I tensorflow/core/grappler/optimizers/custom_graph_optimizer_registry.cc:113] Plugin optimizer for device_type GPU is enabled.\n",
      "2022-12-04 15:57:51.103206: I tensorflow/core/grappler/optimizers/custom_graph_optimizer_registry.cc:113] Plugin optimizer for device_type GPU is enabled.\n"
     ]
    },
    {
     "name": "stdout",
     "output_type": "stream",
     "text": [
      "326/326 [==============================] - ETA: 0s - loss: 5.7489 - root_mean_squared_error: 2.3977 - mean_absolute_error: 1.1845"
     ]
    },
    {
     "name": "stderr",
     "output_type": "stream",
     "text": [
      "2022-12-04 15:57:56.146674: I tensorflow/core/grappler/optimizers/custom_graph_optimizer_registry.cc:113] Plugin optimizer for device_type GPU is enabled.\n",
      "2022-12-04 15:57:56.286565: I tensorflow/core/grappler/optimizers/custom_graph_optimizer_registry.cc:113] Plugin optimizer for device_type GPU is enabled.\n",
      "2022-12-04 15:57:56.317263: I tensorflow/core/grappler/optimizers/custom_graph_optimizer_registry.cc:113] Plugin optimizer for device_type GPU is enabled.\n"
     ]
    },
    {
     "name": "stdout",
     "output_type": "stream",
     "text": [
      "326/326 [==============================] - 8s 17ms/step - loss: 5.7489 - root_mean_squared_error: 2.3977 - mean_absolute_error: 1.1845 - val_loss: 0.6268 - val_root_mean_squared_error: 0.7917 - val_mean_absolute_error: 0.6552\n",
      "Epoch 2/10\n",
      "326/326 [==============================] - 5s 14ms/step - loss: 0.3180 - root_mean_squared_error: 0.5640 - mean_absolute_error: 0.4362 - val_loss: 0.2335 - val_root_mean_squared_error: 0.4832 - val_mean_absolute_error: 0.3751\n",
      "Epoch 3/10\n",
      "326/326 [==============================] - 5s 14ms/step - loss: 0.2227 - root_mean_squared_error: 0.4719 - mean_absolute_error: 0.3650 - val_loss: 0.2139 - val_root_mean_squared_error: 0.4624 - val_mean_absolute_error: 0.3561\n",
      "Epoch 4/10\n",
      "326/326 [==============================] - 5s 15ms/step - loss: 0.2042 - root_mean_squared_error: 0.4519 - mean_absolute_error: 0.3492 - val_loss: 0.1880 - val_root_mean_squared_error: 0.4336 - val_mean_absolute_error: 0.3381\n",
      "Epoch 5/10\n",
      "326/326 [==============================] - 5s 15ms/step - loss: 0.1935 - root_mean_squared_error: 0.4399 - mean_absolute_error: 0.3406 - val_loss: 0.2016 - val_root_mean_squared_error: 0.4490 - val_mean_absolute_error: 0.3562\n",
      "Epoch 6/10\n",
      "326/326 [==============================] - 5s 15ms/step - loss: 0.1820 - root_mean_squared_error: 0.4266 - mean_absolute_error: 0.3294 - val_loss: 0.1744 - val_root_mean_squared_error: 0.4176 - val_mean_absolute_error: 0.3237\n",
      "Epoch 7/10\n",
      "321/326 [============================>.] - ETA: 0s - loss: 0.1787 - root_mean_squared_error: 0.4227 - mean_absolute_error: 0.3269"
     ]
    },
    {
     "ename": "KeyboardInterrupt",
     "evalue": "",
     "output_type": "error",
     "traceback": [
      "\u001b[0;31m---------------------------------------------------------------------------\u001b[0m",
      "\u001b[0;31mKeyboardInterrupt\u001b[0m                         Traceback (most recent call last)",
      "\u001b[1;32m/Users/guolir/Desktop/Volumn Project/code/Volume_Prediction_LSTM_1129.ipynb Cell 15\u001b[0m in \u001b[0;36m<cell line: 1>\u001b[0;34m()\u001b[0m\n\u001b[0;32m----> <a href='vscode-notebook-cell:/Users/guolir/Desktop/Volumn%20Project/code/Volume_Prediction_LSTM_1129.ipynb#X21sZmlsZQ%3D%3D?line=0'>1</a>\u001b[0m history \u001b[39m=\u001b[39m LSTM_model\u001b[39m.\u001b[39;49mfit(Xtr1,\n\u001b[1;32m      <a href='vscode-notebook-cell:/Users/guolir/Desktop/Volumn%20Project/code/Volume_Prediction_LSTM_1129.ipynb#X21sZmlsZQ%3D%3D?line=1'>2</a>\u001b[0m                          Ytr1,\n\u001b[1;32m      <a href='vscode-notebook-cell:/Users/guolir/Desktop/Volumn%20Project/code/Volume_Prediction_LSTM_1129.ipynb#X21sZmlsZQ%3D%3D?line=2'>3</a>\u001b[0m                          validation_data\u001b[39m=\u001b[39;49m(Xvs1, Yvs1),\n\u001b[1;32m      <a href='vscode-notebook-cell:/Users/guolir/Desktop/Volumn%20Project/code/Volume_Prediction_LSTM_1129.ipynb#X21sZmlsZQ%3D%3D?line=3'>4</a>\u001b[0m                          epochs\u001b[39m=\u001b[39;49mparams_LSTM[\u001b[39m\"\u001b[39;49m\u001b[39mepochs\u001b[39;49m\u001b[39m\"\u001b[39;49m],\n\u001b[1;32m      <a href='vscode-notebook-cell:/Users/guolir/Desktop/Volumn%20Project/code/Volume_Prediction_LSTM_1129.ipynb#X21sZmlsZQ%3D%3D?line=4'>5</a>\u001b[0m                          batch_size\u001b[39m=\u001b[39;49mparams_LSTM[\u001b[39m\"\u001b[39;49m\u001b[39mbatch_size\u001b[39;49m\u001b[39m\"\u001b[39;49m],\n\u001b[1;32m      <a href='vscode-notebook-cell:/Users/guolir/Desktop/Volumn%20Project/code/Volume_Prediction_LSTM_1129.ipynb#X21sZmlsZQ%3D%3D?line=5'>6</a>\u001b[0m                          verbose\u001b[39m=\u001b[39;49m\u001b[39m1\u001b[39;49m\n\u001b[1;32m      <a href='vscode-notebook-cell:/Users/guolir/Desktop/Volumn%20Project/code/Volume_Prediction_LSTM_1129.ipynb#X21sZmlsZQ%3D%3D?line=6'>7</a>\u001b[0m                          )\n",
      "File \u001b[0;32m~/miniforge3/envs/tfm1/lib/python3.9/site-packages/keras/utils/traceback_utils.py:64\u001b[0m, in \u001b[0;36mfilter_traceback.<locals>.error_handler\u001b[0;34m(*args, **kwargs)\u001b[0m\n\u001b[1;32m     62\u001b[0m filtered_tb \u001b[39m=\u001b[39m \u001b[39mNone\u001b[39;00m\n\u001b[1;32m     63\u001b[0m \u001b[39mtry\u001b[39;00m:\n\u001b[0;32m---> 64\u001b[0m   \u001b[39mreturn\u001b[39;00m fn(\u001b[39m*\u001b[39;49margs, \u001b[39m*\u001b[39;49m\u001b[39m*\u001b[39;49mkwargs)\n\u001b[1;32m     65\u001b[0m \u001b[39mexcept\u001b[39;00m \u001b[39mException\u001b[39;00m \u001b[39mas\u001b[39;00m e:  \u001b[39m# pylint: disable=broad-except\u001b[39;00m\n\u001b[1;32m     66\u001b[0m   filtered_tb \u001b[39m=\u001b[39m _process_traceback_frames(e\u001b[39m.\u001b[39m__traceback__)\n",
      "File \u001b[0;32m~/miniforge3/envs/tfm1/lib/python3.9/site-packages/keras/engine/training.py:1409\u001b[0m, in \u001b[0;36mModel.fit\u001b[0;34m(self, x, y, batch_size, epochs, verbose, callbacks, validation_split, validation_data, shuffle, class_weight, sample_weight, initial_epoch, steps_per_epoch, validation_steps, validation_batch_size, validation_freq, max_queue_size, workers, use_multiprocessing)\u001b[0m\n\u001b[1;32m   1402\u001b[0m \u001b[39mwith\u001b[39;00m tf\u001b[39m.\u001b[39mprofiler\u001b[39m.\u001b[39mexperimental\u001b[39m.\u001b[39mTrace(\n\u001b[1;32m   1403\u001b[0m     \u001b[39m'\u001b[39m\u001b[39mtrain\u001b[39m\u001b[39m'\u001b[39m,\n\u001b[1;32m   1404\u001b[0m     epoch_num\u001b[39m=\u001b[39mepoch,\n\u001b[1;32m   1405\u001b[0m     step_num\u001b[39m=\u001b[39mstep,\n\u001b[1;32m   1406\u001b[0m     batch_size\u001b[39m=\u001b[39mbatch_size,\n\u001b[1;32m   1407\u001b[0m     _r\u001b[39m=\u001b[39m\u001b[39m1\u001b[39m):\n\u001b[1;32m   1408\u001b[0m   callbacks\u001b[39m.\u001b[39mon_train_batch_begin(step)\n\u001b[0;32m-> 1409\u001b[0m   tmp_logs \u001b[39m=\u001b[39m \u001b[39mself\u001b[39;49m\u001b[39m.\u001b[39;49mtrain_function(iterator)\n\u001b[1;32m   1410\u001b[0m   \u001b[39mif\u001b[39;00m data_handler\u001b[39m.\u001b[39mshould_sync:\n\u001b[1;32m   1411\u001b[0m     context\u001b[39m.\u001b[39masync_wait()\n",
      "File \u001b[0;32m~/miniforge3/envs/tfm1/lib/python3.9/site-packages/tensorflow/python/util/traceback_utils.py:150\u001b[0m, in \u001b[0;36mfilter_traceback.<locals>.error_handler\u001b[0;34m(*args, **kwargs)\u001b[0m\n\u001b[1;32m    148\u001b[0m filtered_tb \u001b[39m=\u001b[39m \u001b[39mNone\u001b[39;00m\n\u001b[1;32m    149\u001b[0m \u001b[39mtry\u001b[39;00m:\n\u001b[0;32m--> 150\u001b[0m   \u001b[39mreturn\u001b[39;00m fn(\u001b[39m*\u001b[39;49margs, \u001b[39m*\u001b[39;49m\u001b[39m*\u001b[39;49mkwargs)\n\u001b[1;32m    151\u001b[0m \u001b[39mexcept\u001b[39;00m \u001b[39mException\u001b[39;00m \u001b[39mas\u001b[39;00m e:\n\u001b[1;32m    152\u001b[0m   filtered_tb \u001b[39m=\u001b[39m _process_traceback_frames(e\u001b[39m.\u001b[39m__traceback__)\n",
      "File \u001b[0;32m~/miniforge3/envs/tfm1/lib/python3.9/site-packages/tensorflow/python/eager/def_function.py:915\u001b[0m, in \u001b[0;36mFunction.__call__\u001b[0;34m(self, *args, **kwds)\u001b[0m\n\u001b[1;32m    912\u001b[0m compiler \u001b[39m=\u001b[39m \u001b[39m\"\u001b[39m\u001b[39mxla\u001b[39m\u001b[39m\"\u001b[39m \u001b[39mif\u001b[39;00m \u001b[39mself\u001b[39m\u001b[39m.\u001b[39m_jit_compile \u001b[39melse\u001b[39;00m \u001b[39m\"\u001b[39m\u001b[39mnonXla\u001b[39m\u001b[39m\"\u001b[39m\n\u001b[1;32m    914\u001b[0m \u001b[39mwith\u001b[39;00m OptionalXlaContext(\u001b[39mself\u001b[39m\u001b[39m.\u001b[39m_jit_compile):\n\u001b[0;32m--> 915\u001b[0m   result \u001b[39m=\u001b[39m \u001b[39mself\u001b[39;49m\u001b[39m.\u001b[39;49m_call(\u001b[39m*\u001b[39;49margs, \u001b[39m*\u001b[39;49m\u001b[39m*\u001b[39;49mkwds)\n\u001b[1;32m    917\u001b[0m new_tracing_count \u001b[39m=\u001b[39m \u001b[39mself\u001b[39m\u001b[39m.\u001b[39mexperimental_get_tracing_count()\n\u001b[1;32m    918\u001b[0m without_tracing \u001b[39m=\u001b[39m (tracing_count \u001b[39m==\u001b[39m new_tracing_count)\n",
      "File \u001b[0;32m~/miniforge3/envs/tfm1/lib/python3.9/site-packages/tensorflow/python/eager/def_function.py:947\u001b[0m, in \u001b[0;36mFunction._call\u001b[0;34m(self, *args, **kwds)\u001b[0m\n\u001b[1;32m    944\u001b[0m   \u001b[39mself\u001b[39m\u001b[39m.\u001b[39m_lock\u001b[39m.\u001b[39mrelease()\n\u001b[1;32m    945\u001b[0m   \u001b[39m# In this case we have created variables on the first call, so we run the\u001b[39;00m\n\u001b[1;32m    946\u001b[0m   \u001b[39m# defunned version which is guaranteed to never create variables.\u001b[39;00m\n\u001b[0;32m--> 947\u001b[0m   \u001b[39mreturn\u001b[39;00m \u001b[39mself\u001b[39;49m\u001b[39m.\u001b[39;49m_stateless_fn(\u001b[39m*\u001b[39;49margs, \u001b[39m*\u001b[39;49m\u001b[39m*\u001b[39;49mkwds)  \u001b[39m# pylint: disable=not-callable\u001b[39;00m\n\u001b[1;32m    948\u001b[0m \u001b[39melif\u001b[39;00m \u001b[39mself\u001b[39m\u001b[39m.\u001b[39m_stateful_fn \u001b[39mis\u001b[39;00m \u001b[39mnot\u001b[39;00m \u001b[39mNone\u001b[39;00m:\n\u001b[1;32m    949\u001b[0m   \u001b[39m# Release the lock early so that multiple threads can perform the call\u001b[39;00m\n\u001b[1;32m    950\u001b[0m   \u001b[39m# in parallel.\u001b[39;00m\n\u001b[1;32m    951\u001b[0m   \u001b[39mself\u001b[39m\u001b[39m.\u001b[39m_lock\u001b[39m.\u001b[39mrelease()\n",
      "File \u001b[0;32m~/miniforge3/envs/tfm1/lib/python3.9/site-packages/tensorflow/python/eager/function.py:2453\u001b[0m, in \u001b[0;36mFunction.__call__\u001b[0;34m(self, *args, **kwargs)\u001b[0m\n\u001b[1;32m   2450\u001b[0m \u001b[39mwith\u001b[39;00m \u001b[39mself\u001b[39m\u001b[39m.\u001b[39m_lock:\n\u001b[1;32m   2451\u001b[0m   (graph_function,\n\u001b[1;32m   2452\u001b[0m    filtered_flat_args) \u001b[39m=\u001b[39m \u001b[39mself\u001b[39m\u001b[39m.\u001b[39m_maybe_define_function(args, kwargs)\n\u001b[0;32m-> 2453\u001b[0m \u001b[39mreturn\u001b[39;00m graph_function\u001b[39m.\u001b[39;49m_call_flat(\n\u001b[1;32m   2454\u001b[0m     filtered_flat_args, captured_inputs\u001b[39m=\u001b[39;49mgraph_function\u001b[39m.\u001b[39;49mcaptured_inputs)\n",
      "File \u001b[0;32m~/miniforge3/envs/tfm1/lib/python3.9/site-packages/tensorflow/python/eager/function.py:1860\u001b[0m, in \u001b[0;36mConcreteFunction._call_flat\u001b[0;34m(self, args, captured_inputs, cancellation_manager)\u001b[0m\n\u001b[1;32m   1856\u001b[0m possible_gradient_type \u001b[39m=\u001b[39m gradients_util\u001b[39m.\u001b[39mPossibleTapeGradientTypes(args)\n\u001b[1;32m   1857\u001b[0m \u001b[39mif\u001b[39;00m (possible_gradient_type \u001b[39m==\u001b[39m gradients_util\u001b[39m.\u001b[39mPOSSIBLE_GRADIENT_TYPES_NONE\n\u001b[1;32m   1858\u001b[0m     \u001b[39mand\u001b[39;00m executing_eagerly):\n\u001b[1;32m   1859\u001b[0m   \u001b[39m# No tape is watching; skip to running the function.\u001b[39;00m\n\u001b[0;32m-> 1860\u001b[0m   \u001b[39mreturn\u001b[39;00m \u001b[39mself\u001b[39m\u001b[39m.\u001b[39m_build_call_outputs(\u001b[39mself\u001b[39;49m\u001b[39m.\u001b[39;49m_inference_function\u001b[39m.\u001b[39;49mcall(\n\u001b[1;32m   1861\u001b[0m       ctx, args, cancellation_manager\u001b[39m=\u001b[39;49mcancellation_manager))\n\u001b[1;32m   1862\u001b[0m forward_backward \u001b[39m=\u001b[39m \u001b[39mself\u001b[39m\u001b[39m.\u001b[39m_select_forward_and_backward_functions(\n\u001b[1;32m   1863\u001b[0m     args,\n\u001b[1;32m   1864\u001b[0m     possible_gradient_type,\n\u001b[1;32m   1865\u001b[0m     executing_eagerly)\n\u001b[1;32m   1866\u001b[0m forward_function, args_with_tangents \u001b[39m=\u001b[39m forward_backward\u001b[39m.\u001b[39mforward()\n",
      "File \u001b[0;32m~/miniforge3/envs/tfm1/lib/python3.9/site-packages/tensorflow/python/eager/function.py:497\u001b[0m, in \u001b[0;36m_EagerDefinedFunction.call\u001b[0;34m(self, ctx, args, cancellation_manager)\u001b[0m\n\u001b[1;32m    495\u001b[0m \u001b[39mwith\u001b[39;00m _InterpolateFunctionError(\u001b[39mself\u001b[39m):\n\u001b[1;32m    496\u001b[0m   \u001b[39mif\u001b[39;00m cancellation_manager \u001b[39mis\u001b[39;00m \u001b[39mNone\u001b[39;00m:\n\u001b[0;32m--> 497\u001b[0m     outputs \u001b[39m=\u001b[39m execute\u001b[39m.\u001b[39;49mexecute(\n\u001b[1;32m    498\u001b[0m         \u001b[39mstr\u001b[39;49m(\u001b[39mself\u001b[39;49m\u001b[39m.\u001b[39;49msignature\u001b[39m.\u001b[39;49mname),\n\u001b[1;32m    499\u001b[0m         num_outputs\u001b[39m=\u001b[39;49m\u001b[39mself\u001b[39;49m\u001b[39m.\u001b[39;49m_num_outputs,\n\u001b[1;32m    500\u001b[0m         inputs\u001b[39m=\u001b[39;49margs,\n\u001b[1;32m    501\u001b[0m         attrs\u001b[39m=\u001b[39;49mattrs,\n\u001b[1;32m    502\u001b[0m         ctx\u001b[39m=\u001b[39;49mctx)\n\u001b[1;32m    503\u001b[0m   \u001b[39melse\u001b[39;00m:\n\u001b[1;32m    504\u001b[0m     outputs \u001b[39m=\u001b[39m execute\u001b[39m.\u001b[39mexecute_with_cancellation(\n\u001b[1;32m    505\u001b[0m         \u001b[39mstr\u001b[39m(\u001b[39mself\u001b[39m\u001b[39m.\u001b[39msignature\u001b[39m.\u001b[39mname),\n\u001b[1;32m    506\u001b[0m         num_outputs\u001b[39m=\u001b[39m\u001b[39mself\u001b[39m\u001b[39m.\u001b[39m_num_outputs,\n\u001b[0;32m   (...)\u001b[0m\n\u001b[1;32m    509\u001b[0m         ctx\u001b[39m=\u001b[39mctx,\n\u001b[1;32m    510\u001b[0m         cancellation_manager\u001b[39m=\u001b[39mcancellation_manager)\n",
      "File \u001b[0;32m~/miniforge3/envs/tfm1/lib/python3.9/site-packages/tensorflow/python/eager/execute.py:54\u001b[0m, in \u001b[0;36mquick_execute\u001b[0;34m(op_name, num_outputs, inputs, attrs, ctx, name)\u001b[0m\n\u001b[1;32m     52\u001b[0m \u001b[39mtry\u001b[39;00m:\n\u001b[1;32m     53\u001b[0m   ctx\u001b[39m.\u001b[39mensure_initialized()\n\u001b[0;32m---> 54\u001b[0m   tensors \u001b[39m=\u001b[39m pywrap_tfe\u001b[39m.\u001b[39;49mTFE_Py_Execute(ctx\u001b[39m.\u001b[39;49m_handle, device_name, op_name,\n\u001b[1;32m     55\u001b[0m                                       inputs, attrs, num_outputs)\n\u001b[1;32m     56\u001b[0m \u001b[39mexcept\u001b[39;00m core\u001b[39m.\u001b[39m_NotOkStatusException \u001b[39mas\u001b[39;00m e:\n\u001b[1;32m     57\u001b[0m   \u001b[39mif\u001b[39;00m name \u001b[39mis\u001b[39;00m \u001b[39mnot\u001b[39;00m \u001b[39mNone\u001b[39;00m:\n",
      "\u001b[0;31mKeyboardInterrupt\u001b[0m: "
     ]
    }
   ],
   "source": [
    "history = LSTM_model.fit(Xtr1,\n",
    "                         Ytr1,\n",
    "                         validation_data=(Xvs1, Yvs1),\n",
    "                         epochs=params_LSTM[\"epochs\"],\n",
    "                         batch_size=params_LSTM[\"batch_size\"],\n",
    "                         verbose=1\n",
    "                         )"
   ]
  },
  {
   "cell_type": "markdown",
   "metadata": {},
   "source": [
    "#### d. Visualize Prediction and Results"
   ]
  },
  {
   "cell_type": "code",
   "execution_count": 219,
   "metadata": {},
   "outputs": [
    {
     "name": "stdout",
     "output_type": "stream",
     "text": [
      "dict_keys(['loss', 'root_mean_squared_error', 'mean_absolute_error'])\n"
     ]
    },
    {
     "ename": "KeyError",
     "evalue": "'val_loss'",
     "output_type": "error",
     "traceback": [
      "\u001b[0;31m---------------------------------------------------------------------------\u001b[0m",
      "\u001b[0;31mKeyError\u001b[0m                                  Traceback (most recent call last)",
      "\u001b[1;32m/Users/guolir/Desktop/Volumn Project/Volume_Prediction_LSTM_1129.ipynb Cell 19\u001b[0m in \u001b[0;36m<cell line: 6>\u001b[0;34m()\u001b[0m\n\u001b[1;32m      <a href='vscode-notebook-cell:/Users/guolir/Desktop/Volumn%20Project/Volume_Prediction_LSTM_1129.ipynb#X23sZmlsZQ%3D%3D?line=3'>4</a>\u001b[0m \u001b[39m# summarize history for loss\u001b[39;00m\n\u001b[1;32m      <a href='vscode-notebook-cell:/Users/guolir/Desktop/Volumn%20Project/Volume_Prediction_LSTM_1129.ipynb#X23sZmlsZQ%3D%3D?line=4'>5</a>\u001b[0m plt\u001b[39m.\u001b[39mplot(history\u001b[39m.\u001b[39mhistory[\u001b[39m'\u001b[39m\u001b[39mloss\u001b[39m\u001b[39m'\u001b[39m])\n\u001b[0;32m----> <a href='vscode-notebook-cell:/Users/guolir/Desktop/Volumn%20Project/Volume_Prediction_LSTM_1129.ipynb#X23sZmlsZQ%3D%3D?line=5'>6</a>\u001b[0m plt\u001b[39m.\u001b[39mplot(history\u001b[39m.\u001b[39;49mhistory[\u001b[39m'\u001b[39;49m\u001b[39mval_loss\u001b[39;49m\u001b[39m'\u001b[39;49m])\n\u001b[1;32m      <a href='vscode-notebook-cell:/Users/guolir/Desktop/Volumn%20Project/Volume_Prediction_LSTM_1129.ipynb#X23sZmlsZQ%3D%3D?line=6'>7</a>\u001b[0m plt\u001b[39m.\u001b[39mtitle(\u001b[39m'\u001b[39m\u001b[39mmodel loss\u001b[39m\u001b[39m'\u001b[39m)\n\u001b[1;32m      <a href='vscode-notebook-cell:/Users/guolir/Desktop/Volumn%20Project/Volume_Prediction_LSTM_1129.ipynb#X23sZmlsZQ%3D%3D?line=7'>8</a>\u001b[0m plt\u001b[39m.\u001b[39mylabel(\u001b[39m'\u001b[39m\u001b[39mloss\u001b[39m\u001b[39m'\u001b[39m)\n",
      "\u001b[0;31mKeyError\u001b[0m: 'val_loss'"
     ]
    },
    {
     "data": {
      "image/png": "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",
      "text/plain": [
       "<Figure size 432x288 with 1 Axes>"
      ]
     },
     "metadata": {},
     "output_type": "display_data"
    }
   ],
   "source": [
    "# list all data in history\n",
    "print(history.history.keys())\n",
    "\n",
    "# summarize history for loss\n",
    "plt.plot(history.history['loss'])\n",
    "plt.plot(history.history['val_loss'])\n",
    "plt.title('model loss')\n",
    "plt.ylabel('loss')\n",
    "plt.xlabel('epoch')\n",
    "plt.legend(['train', 'test'], loc='upper left')\n",
    "plt.show()"
   ]
  },
  {
   "cell_type": "code",
   "execution_count": null,
   "metadata": {},
   "outputs": [
    {
     "name": "stderr",
     "output_type": "stream",
     "text": [
      "2022-12-03 14:06:28.937647: I tensorflow/core/grappler/optimizers/custom_graph_optimizer_registry.cc:113] Plugin optimizer for device_type GPU is enabled.\n",
      "2022-12-03 14:06:29.169766: I tensorflow/core/grappler/optimizers/custom_graph_optimizer_registry.cc:113] Plugin optimizer for device_type GPU is enabled.\n",
      "2022-12-03 14:06:29.291280: I tensorflow/core/grappler/optimizers/custom_graph_optimizer_registry.cc:113] Plugin optimizer for device_type GPU is enabled.\n"
     ]
    },
    {
     "name": "stdout",
     "output_type": "stream",
     "text": [
      "22/22 [==============================] - 1s 16ms/step\n"
     ]
    },
    {
     "data": {
      "image/png": "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",
      "text/plain": [
       "<Figure size 432x288 with 1 Axes>"
      ]
     },
     "metadata": {},
     "output_type": "display_data"
    },
    {
     "name": "stdout",
     "output_type": "stream",
     "text": [
      "Result from LSTM model with volumn and close price features:\n",
      "MAE: 32566.513086225998\n",
      "RMAE: 180.46194359539075\n",
      "MSE: 9135357218.620398\n",
      "RMSE: 95579.06265820144\n",
      "CD: 0.32840236686390534\n"
     ]
    }
   ],
   "source": [
    "# Predict the test set\n",
    "test_prediction = np.exp(LSTM_model.predict(Xts1))\n",
    "test_Y = np.exp(Yts1)\n",
    "\n",
    "plt.plot(test_Y, label = 'true value')\n",
    "plt.plot(test_prediction, label = 'predicted value')\n",
    "plt.title('LSTM plot')\n",
    "plt.legend()\n",
    "plt.show()\n",
    "\n",
    "predictionReport(test_Y, test_prediction)"
   ]
  },
  {
   "cell_type": "markdown",
   "metadata": {},
   "source": [
    "### <Center>--------LSTM & Static----------</Center>"
   ]
  },
  {
   "cell_type": "markdown",
   "metadata": {},
   "source": [
    "#### a. Data Structuring for Combined Model"
   ]
  },
  {
   "cell_type": "code",
   "execution_count": 121,
   "metadata": {},
   "outputs": [],
   "source": [
    "# define data\n",
    "timeUniq = df1.reset_index().time.unique()\n",
    "timeBinDict = {timeUniq[i] : (i+1)/len(timeUniq) for i in range(len(timeUniq))} # the labels are normalized to [0,1]\n",
    "timeLabel = np.array(list(timeBinDict.values())).reshape(-1,1)\n",
    "# define one hot encoding\n",
    "encoder = OneHotEncoder(sparse=False)\n",
    "# transform data\n",
    "onehot = encoder.fit_transform(timeLabel)\n",
    "\n",
    "dfOne = df1.copy().reset_index()\n",
    "dfOne['label'] = dfOne['time'].map(lambda x:timeBinDict[x])\n",
    "dfOne['oneHot'] = [i.tolist() for i in encoder.transform(np.array(dfOne.label).reshape(-1,1))]\n",
    "dfOne = dfOne.loc[:,['logVolume','hlDiff','rangeVariance','label']] # 'oneHot' is not used for now, need to figure out how to use it in the model\n",
    "\n",
    "# Creating train, validation, and test set from labeled dataset\n",
    "Xtr2, Xvs2, Xts2, Ytr2, Yvs2, Yts2 = generateDataset(dfOne, timeStep=7, trainRatio=0.95)"
   ]
  },
  {
   "cell_type": "code",
   "execution_count": 122,
   "metadata": {},
   "outputs": [],
   "source": [
    "# Formating the data into desired shape for LSTM model to take in nonsequential features\n",
    "# Seperate the nonsequential features from the sequential features, which will be inputted accordingly.\n",
    "Seq_X_train = Xtr2[:, :, [0,1,2]]\n",
    "Non_Seq_X_train = Xtr2[:, :, [-1]]\n",
    "\n",
    "Seq_X_validation = Xvs2[:, :, [0,1,2]]\n",
    "Non_Seq_X_validation = Xvs2[:, :, [-1]]\n",
    "\n",
    "Seq_X_test = Xts2[:, :, [0,1,2]]\n",
    "Non_Seq_X_test = Xts2[:, :, [-1]]"
   ]
  },
  {
   "cell_type": "code",
   "execution_count": 142,
   "metadata": {},
   "outputs": [
    {
     "name": "stdout",
     "output_type": "stream",
     "text": [
      "\n",
      "The corresponding shape for train, validationm and test sets are as follows: \n",
      "    Train: (20351, 7, 3)\n",
      "    Validation: (1072, 7, 3)\n",
      "    Test: (1128, 7, 3)\n",
      "\n"
     ]
    }
   ],
   "source": [
    "print(f'''\n",
    "The corresponding shape for train, validationm and test sets are as follows: \n",
    "    Train: {Seq_X_train.shape}\n",
    "    Validation: {Seq_X_validation.shape}\n",
    "    Test: {Seq_X_test.shape}\n",
    "''')"
   ]
  },
  {
   "cell_type": "markdown",
   "metadata": {},
   "source": [
    "#### b. Defining Combined model"
   ]
  },
  {
   "cell_type": "code",
   "execution_count": 186,
   "metadata": {},
   "outputs": [],
   "source": [
    "# Setting up the model which would then be directly callable\n",
    "def build_LSTM_Nonsequential_model(params, input_shape):\n",
    "    # RNN + SLP Model\n",
    "    # Define input layer\n",
    "    recurrent_input = Input(shape=(input_shape), name=\"TIMESERIES_INPUT\")\n",
    "    static_input = Input(shape=(input_shape[0]), name=\"STATIC_INPUT\")\n",
    "\n",
    "    # RNN Layers\n",
    "    # layer - 1\n",
    "    rec_layer_one = LSTM(units=params['lstm_units'], return_sequences=True, name='LSTM_LAYER_1')(recurrent_input)\n",
    "    rec_layer_one = Dropout(rate=params['dropout'], name =\"DROPOUT_LAYER_1\")(rec_layer_one)\n",
    "    # layer - 2\n",
    "    rec_layer_two = LSTM(int(params['lstm_units']/2), name='LSTM_LAYER_2')(rec_layer_one)\n",
    "    # SLP Layers\n",
    "    static_layer_one = Dense(input_shape[0], name=\"DENSE_LAYER_1\")(static_input)\n",
    "    # Combine layers - RNN + SLP\n",
    "    combined = Concatenate(axis= 1,name = \"CONCATENATED_TIMESERIES_STATIC\")([rec_layer_two,static_layer_one])\n",
    "    combined_dense_two = Dense(units=params['combined_layer_units'], activation='relu',name=\"DENSE_LAYER_2\")(combined)\n",
    "    combined_dense_three = Dense(int(params['combined_layer_units']/2), name=\"DENSE_LAYER_3\")(combined_dense_two)\n",
    "    output = Dense(1,name=\"OUTPUT_LAYER\")(combined_dense_three)\n",
    "    # Compile ModeL\n",
    "    model = Model(inputs=[recurrent_input,static_input],outputs=[output])\n",
    "        \n",
    "    # binary cross entropy loss\n",
    "    model.compile(optimizer=params['optimizer'], loss=params['loss'], metrics=[RootMeanSquaredError(), MeanAbsoluteError()])\n",
    "    model.summary()\n",
    "\n",
    "    return model"
   ]
  },
  {
   "cell_type": "markdown",
   "metadata": {},
   "source": [
    "#### c. Initialize Parameters for Combined Model"
   ]
  },
  {
   "cell_type": "code",
   "execution_count": 187,
   "metadata": {},
   "outputs": [
    {
     "name": "stdout",
     "output_type": "stream",
     "text": [
      "Model: \"model_3\"\n",
      "__________________________________________________________________________________________________\n",
      " Layer (type)                   Output Shape         Param #     Connected to                     \n",
      "==================================================================================================\n",
      " TIMESERIES_INPUT (InputLayer)  [(None, 7, 3)]       0           []                               \n",
      "                                                                                                  \n",
      " LSTM_LAYER_1 (LSTM)            (None, 7, 64)        17408       ['TIMESERIES_INPUT[0][0]']       \n",
      "                                                                                                  \n",
      " DROPOUT_LAYER_1 (Dropout)      (None, 7, 64)        0           ['LSTM_LAYER_1[0][0]']           \n",
      "                                                                                                  \n",
      " STATIC_INPUT (InputLayer)      [(None, 7)]          0           []                               \n",
      "                                                                                                  \n",
      " LSTM_LAYER_2 (LSTM)            (None, 32)           12416       ['DROPOUT_LAYER_1[0][0]']        \n",
      "                                                                                                  \n",
      " DENSE_LAYER_1 (Dense)          (None, 7)            56          ['STATIC_INPUT[0][0]']           \n",
      "                                                                                                  \n",
      " CONCATENATED_TIMESERIES_STATIC  (None, 39)          0           ['LSTM_LAYER_2[0][0]',           \n",
      "  (Concatenate)                                                   'DENSE_LAYER_1[0][0]']          \n",
      "                                                                                                  \n",
      " DENSE_LAYER_2 (Dense)          (None, 32)           1280        ['CONCATENATED_TIMESERIES_STATIC[\n",
      "                                                                 0][0]']                          \n",
      "                                                                                                  \n",
      " DENSE_LAYER_3 (Dense)          (None, 16)           528         ['DENSE_LAYER_2[0][0]']          \n",
      "                                                                                                  \n",
      " OUTPUT_LAYER (Dense)           (None, 1)            17          ['DENSE_LAYER_3[0][0]']          \n",
      "                                                                                                  \n",
      "==================================================================================================\n",
      "Total params: 31,705\n",
      "Trainable params: 31,705\n",
      "Non-trainable params: 0\n",
      "__________________________________________________________________________________________________\n"
     ]
    }
   ],
   "source": [
    "# Define timesteps and the number of features\n",
    "n_timesteps = Seq_X_train.shape[1]\n",
    "n_features = Seq_X_train.shape[2]\n",
    "input_shape = (n_timesteps, n_features)\n",
    "\n",
    "params_LSTM_SLP = {\n",
    "    # \"loss\": \"mean_squared_error\",\n",
    "    \"loss\": \"huber_loss\",\n",
    "    \"optimizer\": \"adam\",\n",
    "    \"dropout\": 0.05,\n",
    "    \"lstm_units\": 64,\n",
    "    \"combined_layer_units\": 32,\n",
    "    \"epochs\": 10,\n",
    "    \"batch_size\": 64,\n",
    "#     \"es_patience\" : 5,\n",
    "    \"activation\" : 'relu'\n",
    "}\n",
    "\n",
    "combined_model = build_LSTM_Nonsequential_model(params=params_LSTM_SLP, input_shape=input_shape)"
   ]
  },
  {
   "cell_type": "markdown",
   "metadata": {},
   "source": [
    "#### d. Fit Combined Model"
   ]
  },
  {
   "cell_type": "code",
   "execution_count": 188,
   "metadata": {},
   "outputs": [
    {
     "name": "stdout",
     "output_type": "stream",
     "text": [
      "Epoch 1/10\n"
     ]
    },
    {
     "name": "stderr",
     "output_type": "stream",
     "text": [
      "2022-12-03 13:49:37.265932: I tensorflow/core/grappler/optimizers/custom_graph_optimizer_registry.cc:113] Plugin optimizer for device_type GPU is enabled.\n",
      "2022-12-03 13:49:37.699185: I tensorflow/core/grappler/optimizers/custom_graph_optimizer_registry.cc:113] Plugin optimizer for device_type GPU is enabled.\n",
      "2022-12-03 13:49:37.808716: I tensorflow/core/grappler/optimizers/custom_graph_optimizer_registry.cc:113] Plugin optimizer for device_type GPU is enabled.\n",
      "2022-12-03 13:49:38.000134: I tensorflow/core/grappler/optimizers/custom_graph_optimizer_registry.cc:113] Plugin optimizer for device_type GPU is enabled.\n",
      "2022-12-03 13:49:38.156875: I tensorflow/core/grappler/optimizers/custom_graph_optimizer_registry.cc:113] Plugin optimizer for device_type GPU is enabled.\n"
     ]
    },
    {
     "name": "stdout",
     "output_type": "stream",
     "text": [
      "318/318 [==============================] - ETA: 0s - loss: 0.7186 - root_mean_squared_error: 2.1442 - mean_absolute_error: 1.0578"
     ]
    },
    {
     "name": "stderr",
     "output_type": "stream",
     "text": [
      "2022-12-03 13:49:44.716046: I tensorflow/core/grappler/optimizers/custom_graph_optimizer_registry.cc:113] Plugin optimizer for device_type GPU is enabled.\n",
      "2022-12-03 13:49:44.877714: I tensorflow/core/grappler/optimizers/custom_graph_optimizer_registry.cc:113] Plugin optimizer for device_type GPU is enabled.\n",
      "2022-12-03 13:49:44.928001: I tensorflow/core/grappler/optimizers/custom_graph_optimizer_registry.cc:113] Plugin optimizer for device_type GPU is enabled.\n"
     ]
    },
    {
     "name": "stdout",
     "output_type": "stream",
     "text": [
      "318/318 [==============================] - 10s 23ms/step - loss: 0.7186 - root_mean_squared_error: 2.1442 - mean_absolute_error: 1.0578 - val_loss: 0.1129 - val_root_mean_squared_error: 0.4811 - val_mean_absolute_error: 0.3771\n",
      "Epoch 2/10\n",
      "318/318 [==============================] - 5s 16ms/step - loss: 0.0962 - root_mean_squared_error: 0.4424 - mean_absolute_error: 0.3450 - val_loss: 0.0962 - val_root_mean_squared_error: 0.4436 - val_mean_absolute_error: 0.3460\n",
      "Epoch 3/10\n",
      "318/318 [==============================] - 5s 15ms/step - loss: 0.0878 - root_mean_squared_error: 0.4226 - mean_absolute_error: 0.3293 - val_loss: 0.0907 - val_root_mean_squared_error: 0.4303 - val_mean_absolute_error: 0.3333\n",
      "Epoch 4/10\n",
      "318/318 [==============================] - 5s 17ms/step - loss: 0.0873 - root_mean_squared_error: 0.4213 - mean_absolute_error: 0.3288 - val_loss: 0.1020 - val_root_mean_squared_error: 0.4558 - val_mean_absolute_error: 0.3587\n",
      "Epoch 5/10\n",
      "318/318 [==============================] - 5s 15ms/step - loss: 0.0832 - root_mean_squared_error: 0.4111 - mean_absolute_error: 0.3201 - val_loss: 0.0897 - val_root_mean_squared_error: 0.4276 - val_mean_absolute_error: 0.3305\n",
      "Epoch 6/10\n",
      "318/318 [==============================] - 5s 15ms/step - loss: 0.0844 - root_mean_squared_error: 0.4140 - mean_absolute_error: 0.3223 - val_loss: 0.0860 - val_root_mean_squared_error: 0.4193 - val_mean_absolute_error: 0.3224\n",
      "Epoch 7/10\n",
      "318/318 [==============================] - 5s 17ms/step - loss: 0.0824 - root_mean_squared_error: 0.4092 - mean_absolute_error: 0.3183 - val_loss: 0.0877 - val_root_mean_squared_error: 0.4229 - val_mean_absolute_error: 0.3271\n",
      "Epoch 8/10\n",
      "318/318 [==============================] - 5s 17ms/step - loss: 0.0815 - root_mean_squared_error: 0.4069 - mean_absolute_error: 0.3164 - val_loss: 0.0900 - val_root_mean_squared_error: 0.4281 - val_mean_absolute_error: 0.3320\n",
      "Epoch 9/10\n",
      "318/318 [==============================] - 5s 16ms/step - loss: 0.0826 - root_mean_squared_error: 0.4094 - mean_absolute_error: 0.3190 - val_loss: 0.0874 - val_root_mean_squared_error: 0.4219 - val_mean_absolute_error: 0.3253\n",
      "Epoch 10/10\n",
      "318/318 [==============================] - 5s 15ms/step - loss: 0.0824 - root_mean_squared_error: 0.4092 - mean_absolute_error: 0.3178 - val_loss: 0.0869 - val_root_mean_squared_error: 0.4220 - val_mean_absolute_error: 0.3225\n"
     ]
    }
   ],
   "source": [
    "history2 = combined_model.fit([Seq_X_train, Non_Seq_X_train], Ytr2, \n",
    "                               validation_data=([Seq_X_validation, Non_Seq_X_validation], Yvs2),\n",
    "                               epochs=params_LSTM_SLP[\"epochs\"],\n",
    "                               batch_size=params_LSTM_SLP[\"batch_size\"],\n",
    "                               verbose=1\n",
    "                              )\n"
   ]
  },
  {
   "cell_type": "markdown",
   "metadata": {},
   "source": [
    "#### e. Visualize Prediction and Results for Combined Model"
   ]
  },
  {
   "cell_type": "code",
   "execution_count": 191,
   "metadata": {},
   "outputs": [
    {
     "name": "stdout",
     "output_type": "stream",
     "text": [
      "dict_keys(['loss', 'root_mean_squared_error', 'mean_absolute_error', 'val_loss', 'val_root_mean_squared_error', 'val_mean_absolute_error'])\n"
     ]
    },
    {
     "data": {
      "image/png": "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",
      "text/plain": [
       "<Figure size 432x288 with 1 Axes>"
      ]
     },
     "metadata": {},
     "output_type": "display_data"
    }
   ],
   "source": [
    "# list all data in history\n",
    "print(history2.history.keys())\n",
    "\n",
    "# summarize history for loss\n",
    "plt.plot(history2.history['loss'])\n",
    "plt.plot(history2.history['val_loss'])\n",
    "plt.title('model loss')\n",
    "plt.ylabel('loss')\n",
    "plt.xlabel('epoch')\n",
    "plt.legend(['train', 'test'], loc='upper left')\n",
    "plt.show()"
   ]
  },
  {
   "cell_type": "code",
   "execution_count": 192,
   "metadata": {},
   "outputs": [
    {
     "name": "stdout",
     "output_type": "stream",
     "text": [
      "36/36 [==============================] - 0s 8ms/step\n",
      "Result from LSTM model with volumn and close price features:\n",
      "MAE: 30613.274543924534\n",
      "RMAE: 174.9664954896352\n",
      "MSE: 7224127105.981898\n",
      "RMSE: 84994.86517420861\n",
      "CD: 0.33451641526175685\n"
     ]
    },
    {
     "data": {
      "image/png": "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",
      "text/plain": [
       "<Figure size 432x288 with 1 Axes>"
      ]
     },
     "metadata": {},
     "output_type": "display_data"
    }
   ],
   "source": [
    "# predict the test set and report the performance\n",
    "test_prediction = np.exp(combined_model.predict([Seq_X_test, Non_Seq_X_test]))\n",
    "test_Y2 = np.exp(Yts2)\n",
    "\n",
    "plt.plot(test_Y2, label = 'true value')\n",
    "plt.plot(test_prediction, label = 'predicted value')\n",
    "plt.title('LSTM plot')\n",
    "plt.legend()\n",
    "\n",
    "predictionReport(test_Y2, test_prediction)"
   ]
  },
  {
   "cell_type": "code",
   "execution_count": null,
   "metadata": {},
   "outputs": [],
   "source": []
  },
  {
   "cell_type": "markdown",
   "metadata": {},
   "source": []
  }
 ],
 "metadata": {
  "kernelspec": {
   "display_name": "Python 3.9.13 ('tfm1')",
   "language": "python",
   "name": "python3"
  },
  "language_info": {
   "codemirror_mode": {
    "name": "ipython",
    "version": 3
   },
   "file_extension": ".py",
   "mimetype": "text/x-python",
   "name": "python",
   "nbconvert_exporter": "python",
   "pygments_lexer": "ipython3",
   "version": "3.9.13"
  },
  "orig_nbformat": 4,
  "vscode": {
   "interpreter": {
    "hash": "7fe92d1e89154c57a4fbfff2c3c70c8292c47a67a0e1bcb756a82d16cca8ac22"
   }
  }
 },
 "nbformat": 4,
 "nbformat_minor": 2
}
