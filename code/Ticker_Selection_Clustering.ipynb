{
 "cells": [
  {
   "cell_type": "code",
   "execution_count": 1,
   "metadata": {},
   "outputs": [],
   "source": [
    "# Import all the libraries\n",
    "import os\n",
    "import re\n",
    "import warnings\n",
    "warnings.filterwarnings('ignore')\n",
    "\n",
    "import functions\n",
    "from functions import generateDataset\n",
    "from functions import getData\n",
    "from functions import getDates\n",
    "from functions import getTickerPaths\n",
    "from functions import randomSelectTickers"
   ]
  },
  {
   "cell_type": "code",
   "execution_count": 2,
   "metadata": {},
   "outputs": [],
   "source": [
    "# Get all file names in the folder 'decompressed' (all the tickers)\n",
    "path = '/Users/guolir/Desktop/Volumn Project/Data/decompressed'\n",
    "filePaths = getTickerPaths(path)\n",
    "\n",
    "dfs = randomSelectTickers(filePaths, nTickers = 20)\n",
    "tickerNames = [df.name for df in dfs]"
   ]
  },
  {
   "cell_type": "code",
   "execution_count": 5,
   "metadata": {},
   "outputs": [
    {
     "data": {
      "text/plain": [
       "13"
      ]
     },
     "execution_count": 5,
     "metadata": {},
     "output_type": "execute_result"
    }
   ],
   "source": [
    "len(dfs)"
   ]
  }
 ],
 "metadata": {
  "kernelspec": {
   "display_name": "Python 3.9.13 ('tfm1')",
   "language": "python",
   "name": "python3"
  },
  "language_info": {
   "codemirror_mode": {
    "name": "ipython",
    "version": 3
   },
   "file_extension": ".py",
   "mimetype": "text/x-python",
   "name": "python",
   "nbconvert_exporter": "python",
   "pygments_lexer": "ipython3",
   "version": "3.9.13"
  },
  "orig_nbformat": 4,
  "vscode": {
   "interpreter": {
    "hash": "7fe92d1e89154c57a4fbfff2c3c70c8292c47a67a0e1bcb756a82d16cca8ac22"
   }
  }
 },
 "nbformat": 4,
 "nbformat_minor": 2
}
